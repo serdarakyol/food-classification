{
 "cells": [
  {
   "cell_type": "markdown",
   "metadata": {},
   "source": [
    "# Data exploration"
   ]
  },
  {
   "cell_type": "code",
   "execution_count": 1,
   "metadata": {
    "executionInfo": {
     "elapsed": 312,
     "status": "ok",
     "timestamp": 1645404003549,
     "user": {
      "displayName": "Serdar AKYOL",
      "photoUrl": "https://lh3.googleusercontent.com/a-/AOh14GhFoEhTTdnKtbAMCf_KR00rHfafHKDcsas7YjsxIA=s64",
      "userId": "13192402314406047829"
     },
     "user_tz": -60
    },
    "id": "v-bPUd1qkVJQ"
   },
   "outputs": [],
   "source": [
    "# ignore warning for clear output\n",
    "import warnings\n",
    "warnings.filterwarnings('ignore')"
   ]
  },
  {
   "cell_type": "code",
   "execution_count": 2,
   "metadata": {
    "colab": {
     "base_uri": "https://localhost:8080/",
     "height": 696
    },
    "executionInfo": {
     "elapsed": 18,
     "status": "ok",
     "timestamp": 1645404006045,
     "user": {
      "displayName": "Serdar AKYOL",
      "photoUrl": "https://lh3.googleusercontent.com/a-/AOh14GhFoEhTTdnKtbAMCf_KR00rHfafHKDcsas7YjsxIA=s64",
      "userId": "13192402314406047829"
     },
     "user_tz": -60
    },
    "id": "ky5382K7FwTl",
    "outputId": "ebd0b628-cf61-4bcc-ec7f-94b40e247e22"
   },
   "outputs": [
    {
     "data": {
      "text/html": [
       "<div>\n",
       "<style scoped>\n",
       "    .dataframe tbody tr th:only-of-type {\n",
       "        vertical-align: middle;\n",
       "    }\n",
       "\n",
       "    .dataframe tbody tr th {\n",
       "        vertical-align: top;\n",
       "    }\n",
       "\n",
       "    .dataframe thead th {\n",
       "        text-align: right;\n",
       "    }\n",
       "</style>\n",
       "<table border=\"1\" class=\"dataframe\">\n",
       "  <thead>\n",
       "    <tr style=\"text-align: right;\">\n",
       "      <th></th>\n",
       "      <th>id</th>\n",
       "      <th>category</th>\n",
       "      <th>is_liquid</th>\n",
       "      <th>nutritional_saturated_fat_100g</th>\n",
       "      <th>nutritional_carbohydrates_100g</th>\n",
       "      <th>nutritional_fat_100g</th>\n",
       "      <th>nutritional_sugars_100g</th>\n",
       "      <th>nutritional_proteins_100g</th>\n",
       "      <th>nutritional_fiber_100g</th>\n",
       "      <th>nutritional_energy_100g</th>\n",
       "      <th>nutritional_salt_100g</th>\n",
       "      <th>ingredients_ordered</th>\n",
       "      <th>target</th>\n",
       "    </tr>\n",
       "  </thead>\n",
       "  <tbody>\n",
       "    <tr>\n",
       "      <th>0</th>\n",
       "      <td>765866d8167564278da2cf67aac203af</td>\n",
       "      <td>Vegano y vegetariano</td>\n",
       "      <td>0</td>\n",
       "      <td>1.9</td>\n",
       "      <td>NaN</td>\n",
       "      <td>16.8</td>\n",
       "      <td>0.8</td>\n",
       "      <td>16.7</td>\n",
       "      <td>4.3</td>\n",
       "      <td>272.0</td>\n",
       "      <td>1.41</td>\n",
       "      <td>['gR05M7hdHDnkxI1EY0jB', 'SsJ4xBTSIBSpMwWeQFSC...</td>\n",
       "      <td>1</td>\n",
       "    </tr>\n",
       "    <tr>\n",
       "      <th>1</th>\n",
       "      <td>819227b8191615cea03aaf6763099b85</td>\n",
       "      <td>Panes</td>\n",
       "      <td>0</td>\n",
       "      <td>0.9</td>\n",
       "      <td>51.0</td>\n",
       "      <td>4.7</td>\n",
       "      <td>7.4</td>\n",
       "      <td>8.9</td>\n",
       "      <td>3.2</td>\n",
       "      <td>291.0</td>\n",
       "      <td>1.40</td>\n",
       "      <td>['nJsnpHiBOUfvj5itad3B', 'cSoODVpMKhGnpTL6xxSn...</td>\n",
       "      <td>1</td>\n",
       "    </tr>\n",
       "    <tr>\n",
       "      <th>2</th>\n",
       "      <td>3ab004c9bf842cc6f87368e1daada35c</td>\n",
       "      <td>Verduras y hortalizas</td>\n",
       "      <td>0</td>\n",
       "      <td>0.0</td>\n",
       "      <td>1.0</td>\n",
       "      <td>0.0</td>\n",
       "      <td>0.0</td>\n",
       "      <td>0.7</td>\n",
       "      <td>1.2</td>\n",
       "      <td>9.0</td>\n",
       "      <td>0.80</td>\n",
       "      <td>['0QGKoQHlkIBm6SlHSILI', 'cSoODVpMKhGnpTL6xxSn...</td>\n",
       "      <td>0</td>\n",
       "    </tr>\n",
       "    <tr>\n",
       "      <th>3</th>\n",
       "      <td>c31ebe68689adeac9900e94cc96199bc</td>\n",
       "      <td>Panes</td>\n",
       "      <td>0</td>\n",
       "      <td>0.6</td>\n",
       "      <td>49.0</td>\n",
       "      <td>3.6</td>\n",
       "      <td>3.2</td>\n",
       "      <td>9.2</td>\n",
       "      <td>5.5</td>\n",
       "      <td>276.0</td>\n",
       "      <td>0.98</td>\n",
       "      <td>['nJsnpHiBOUfvj5itad3B', 'cSoODVpMKhGnpTL6xxSn...</td>\n",
       "      <td>1</td>\n",
       "    </tr>\n",
       "    <tr>\n",
       "      <th>4</th>\n",
       "      <td>334ee09448335590a3898d28476f1195</td>\n",
       "      <td>Arroz, pasta y otros cereales</td>\n",
       "      <td>0</td>\n",
       "      <td>0.0</td>\n",
       "      <td>79.0</td>\n",
       "      <td>1.0</td>\n",
       "      <td>0.0</td>\n",
       "      <td>5.1</td>\n",
       "      <td>0.0</td>\n",
       "      <td>352.0</td>\n",
       "      <td>0.00</td>\n",
       "      <td>['Erwdjd3OtzRMjlHmEHdG']</td>\n",
       "      <td>1</td>\n",
       "    </tr>\n",
       "    <tr>\n",
       "      <th>...</th>\n",
       "      <td>...</td>\n",
       "      <td>...</td>\n",
       "      <td>...</td>\n",
       "      <td>...</td>\n",
       "      <td>...</td>\n",
       "      <td>...</td>\n",
       "      <td>...</td>\n",
       "      <td>...</td>\n",
       "      <td>...</td>\n",
       "      <td>...</td>\n",
       "      <td>...</td>\n",
       "      <td>...</td>\n",
       "      <td>...</td>\n",
       "    </tr>\n",
       "    <tr>\n",
       "      <th>11995</th>\n",
       "      <td>484083a26b3caf7f46973f39216e29bf</td>\n",
       "      <td>Yogures</td>\n",
       "      <td>0</td>\n",
       "      <td>5.0</td>\n",
       "      <td>14.4</td>\n",
       "      <td>7.7</td>\n",
       "      <td>14.1</td>\n",
       "      <td>2.9</td>\n",
       "      <td>0.0</td>\n",
       "      <td>39.0</td>\n",
       "      <td>0.10</td>\n",
       "      <td>['sG2ApLdn0OnEW3OaCMys', 'c66gvYfTTXDE8EHOKVVG...</td>\n",
       "      <td>1</td>\n",
       "    </tr>\n",
       "    <tr>\n",
       "      <th>11996</th>\n",
       "      <td>58c1751cf8f58b8bc7f8e5848f1fed09</td>\n",
       "      <td>Conservas</td>\n",
       "      <td>0</td>\n",
       "      <td>3.5</td>\n",
       "      <td>0.2</td>\n",
       "      <td>16.0</td>\n",
       "      <td>0.0</td>\n",
       "      <td>1.3</td>\n",
       "      <td>3.1</td>\n",
       "      <td>156.0</td>\n",
       "      <td>2.60</td>\n",
       "      <td>['cSoODVpMKhGnpTL6xxSn', 'ViRR41yHpkGvT0tdwY2V...</td>\n",
       "      <td>0</td>\n",
       "    </tr>\n",
       "    <tr>\n",
       "      <th>11997</th>\n",
       "      <td>e14f8b98e98f9c93a3d3592bb151523a</td>\n",
       "      <td>Carne</td>\n",
       "      <td>0</td>\n",
       "      <td>2.3</td>\n",
       "      <td>1.5</td>\n",
       "      <td>6.5</td>\n",
       "      <td>1.3</td>\n",
       "      <td>17.5</td>\n",
       "      <td>0.0</td>\n",
       "      <td>135.0</td>\n",
       "      <td>2.20</td>\n",
       "      <td>['UODOEihlSRK2ZXbuS1Fy', 'QxZ6L3czM1HUAggHzU3Q...</td>\n",
       "      <td>1</td>\n",
       "    </tr>\n",
       "    <tr>\n",
       "      <th>11998</th>\n",
       "      <td>3f1631b0e1807a8e916727d0f9367c09</td>\n",
       "      <td>Quesos</td>\n",
       "      <td>0</td>\n",
       "      <td>6.8</td>\n",
       "      <td>3.5</td>\n",
       "      <td>10.0</td>\n",
       "      <td>3.5</td>\n",
       "      <td>11.0</td>\n",
       "      <td>0.0</td>\n",
       "      <td>153.0</td>\n",
       "      <td>2.50</td>\n",
       "      <td>['7dTKaDhQYCelTZY0ly0n', 'EInFvJ1B8OAw3MPdoPdy...</td>\n",
       "      <td>1</td>\n",
       "    </tr>\n",
       "    <tr>\n",
       "      <th>11999</th>\n",
       "      <td>d27dc645037fa7e7cec6e13085704db5</td>\n",
       "      <td>Aperitivos</td>\n",
       "      <td>0</td>\n",
       "      <td>5.0</td>\n",
       "      <td>49.8</td>\n",
       "      <td>32.8</td>\n",
       "      <td>0.5</td>\n",
       "      <td>6.5</td>\n",
       "      <td>5.4</td>\n",
       "      <td>531.0</td>\n",
       "      <td>0.70</td>\n",
       "      <td>['klrlExl789l2xM4BU4Fs', '064N6MsfJc0Me0WVGt2B']</td>\n",
       "      <td>1</td>\n",
       "    </tr>\n",
       "  </tbody>\n",
       "</table>\n",
       "<p>12000 rows × 13 columns</p>\n",
       "</div>"
      ],
      "text/plain": [
       "                                     id                       category  \\\n",
       "0      765866d8167564278da2cf67aac203af           Vegano y vegetariano   \n",
       "1      819227b8191615cea03aaf6763099b85                          Panes   \n",
       "2      3ab004c9bf842cc6f87368e1daada35c          Verduras y hortalizas   \n",
       "3      c31ebe68689adeac9900e94cc96199bc                          Panes   \n",
       "4      334ee09448335590a3898d28476f1195  Arroz, pasta y otros cereales   \n",
       "...                                 ...                            ...   \n",
       "11995  484083a26b3caf7f46973f39216e29bf                        Yogures   \n",
       "11996  58c1751cf8f58b8bc7f8e5848f1fed09                      Conservas   \n",
       "11997  e14f8b98e98f9c93a3d3592bb151523a                          Carne   \n",
       "11998  3f1631b0e1807a8e916727d0f9367c09                         Quesos   \n",
       "11999  d27dc645037fa7e7cec6e13085704db5                     Aperitivos   \n",
       "\n",
       "       is_liquid  nutritional_saturated_fat_100g  \\\n",
       "0              0                             1.9   \n",
       "1              0                             0.9   \n",
       "2              0                             0.0   \n",
       "3              0                             0.6   \n",
       "4              0                             0.0   \n",
       "...          ...                             ...   \n",
       "11995          0                             5.0   \n",
       "11996          0                             3.5   \n",
       "11997          0                             2.3   \n",
       "11998          0                             6.8   \n",
       "11999          0                             5.0   \n",
       "\n",
       "       nutritional_carbohydrates_100g  nutritional_fat_100g  \\\n",
       "0                                 NaN                  16.8   \n",
       "1                                51.0                   4.7   \n",
       "2                                 1.0                   0.0   \n",
       "3                                49.0                   3.6   \n",
       "4                                79.0                   1.0   \n",
       "...                               ...                   ...   \n",
       "11995                            14.4                   7.7   \n",
       "11996                             0.2                  16.0   \n",
       "11997                             1.5                   6.5   \n",
       "11998                             3.5                  10.0   \n",
       "11999                            49.8                  32.8   \n",
       "\n",
       "       nutritional_sugars_100g  nutritional_proteins_100g  \\\n",
       "0                          0.8                       16.7   \n",
       "1                          7.4                        8.9   \n",
       "2                          0.0                        0.7   \n",
       "3                          3.2                        9.2   \n",
       "4                          0.0                        5.1   \n",
       "...                        ...                        ...   \n",
       "11995                     14.1                        2.9   \n",
       "11996                      0.0                        1.3   \n",
       "11997                      1.3                       17.5   \n",
       "11998                      3.5                       11.0   \n",
       "11999                      0.5                        6.5   \n",
       "\n",
       "       nutritional_fiber_100g  nutritional_energy_100g  nutritional_salt_100g  \\\n",
       "0                         4.3                    272.0                   1.41   \n",
       "1                         3.2                    291.0                   1.40   \n",
       "2                         1.2                      9.0                   0.80   \n",
       "3                         5.5                    276.0                   0.98   \n",
       "4                         0.0                    352.0                   0.00   \n",
       "...                       ...                      ...                    ...   \n",
       "11995                     0.0                     39.0                   0.10   \n",
       "11996                     3.1                    156.0                   2.60   \n",
       "11997                     0.0                    135.0                   2.20   \n",
       "11998                     0.0                    153.0                   2.50   \n",
       "11999                     5.4                    531.0                   0.70   \n",
       "\n",
       "                                     ingredients_ordered  target  \n",
       "0      ['gR05M7hdHDnkxI1EY0jB', 'SsJ4xBTSIBSpMwWeQFSC...       1  \n",
       "1      ['nJsnpHiBOUfvj5itad3B', 'cSoODVpMKhGnpTL6xxSn...       1  \n",
       "2      ['0QGKoQHlkIBm6SlHSILI', 'cSoODVpMKhGnpTL6xxSn...       0  \n",
       "3      ['nJsnpHiBOUfvj5itad3B', 'cSoODVpMKhGnpTL6xxSn...       1  \n",
       "4                               ['Erwdjd3OtzRMjlHmEHdG']       1  \n",
       "...                                                  ...     ...  \n",
       "11995  ['sG2ApLdn0OnEW3OaCMys', 'c66gvYfTTXDE8EHOKVVG...       1  \n",
       "11996  ['cSoODVpMKhGnpTL6xxSn', 'ViRR41yHpkGvT0tdwY2V...       0  \n",
       "11997  ['UODOEihlSRK2ZXbuS1Fy', 'QxZ6L3czM1HUAggHzU3Q...       1  \n",
       "11998  ['7dTKaDhQYCelTZY0ly0n', 'EInFvJ1B8OAw3MPdoPdy...       1  \n",
       "11999   ['klrlExl789l2xM4BU4Fs', '064N6MsfJc0Me0WVGt2B']       1  \n",
       "\n",
       "[12000 rows x 13 columns]"
      ]
     },
     "execution_count": 2,
     "metadata": {},
     "output_type": "execute_result"
    }
   ],
   "source": [
    "import pandas as pd\n",
    "train_df = pd.read_csv('../data/train.csv')\n",
    "train_df"
   ]
  },
  {
   "cell_type": "code",
   "execution_count": 3,
   "metadata": {
    "colab": {
     "base_uri": "https://localhost:8080/"
    },
    "executionInfo": {
     "elapsed": 357,
     "status": "ok",
     "timestamp": 1645404008779,
     "user": {
      "displayName": "Serdar AKYOL",
      "photoUrl": "https://lh3.googleusercontent.com/a-/AOh14GhFoEhTTdnKtbAMCf_KR00rHfafHKDcsas7YjsxIA=s64",
      "userId": "13192402314406047829"
     },
     "user_tz": -60
    },
    "id": "E38z8rSmGEBl",
    "outputId": "493ca2a4-052c-44f7-e36f-3cd954863345"
   },
   "outputs": [
    {
     "data": {
      "text/plain": [
       "1    7218\n",
       "0    4782\n",
       "Name: target, dtype: int64"
      ]
     },
     "execution_count": 3,
     "metadata": {},
     "output_type": "execute_result"
    }
   ],
   "source": [
    "train_df['target'].value_counts()\n",
    "# The dataset is unbalanced\n",
    "# There are 2 classes, Therefore I can use firstly logistic regression but I am going to train various models for I can evaluate them"
   ]
  },
  {
   "cell_type": "code",
   "execution_count": 4,
   "metadata": {
    "colab": {
     "base_uri": "https://localhost:8080/"
    },
    "executionInfo": {
     "elapsed": 6,
     "status": "ok",
     "timestamp": 1645404009182,
     "user": {
      "displayName": "Serdar AKYOL",
      "photoUrl": "https://lh3.googleusercontent.com/a-/AOh14GhFoEhTTdnKtbAMCf_KR00rHfafHKDcsas7YjsxIA=s64",
      "userId": "13192402314406047829"
     },
     "user_tz": -60
    },
    "id": "cmr1Ir1bGd_o",
    "outputId": "a9119013-93f9-49a1-fba2-6967b0c39a0d"
   },
   "outputs": [
    {
     "name": "stdout",
     "output_type": "stream",
     "text": [
      "<class 'pandas.core.frame.DataFrame'>\n",
      "RangeIndex: 12000 entries, 0 to 11999\n",
      "Data columns (total 13 columns):\n",
      " #   Column                          Non-Null Count  Dtype  \n",
      "---  ------                          --------------  -----  \n",
      " 0   id                              12000 non-null  object \n",
      " 1   category                        12000 non-null  object \n",
      " 2   is_liquid                       12000 non-null  int64  \n",
      " 3   nutritional_saturated_fat_100g  11662 non-null  float64\n",
      " 4   nutritional_carbohydrates_100g  11443 non-null  float64\n",
      " 5   nutritional_fat_100g            11866 non-null  float64\n",
      " 6   nutritional_sugars_100g         11680 non-null  float64\n",
      " 7   nutritional_proteins_100g       11717 non-null  float64\n",
      " 8   nutritional_fiber_100g          11590 non-null  float64\n",
      " 9   nutritional_energy_100g         11659 non-null  float64\n",
      " 10  nutritional_salt_100g           11492 non-null  float64\n",
      " 11  ingredients_ordered             12000 non-null  object \n",
      " 12  target                          12000 non-null  int64  \n",
      "dtypes: float64(8), int64(2), object(3)\n",
      "memory usage: 1.2+ MB\n"
     ]
    }
   ],
   "source": [
    "train_df.info()\n",
    "# we have to convert object type to int or float for train model"
   ]
  },
  {
   "cell_type": "code",
   "execution_count": 5,
   "metadata": {
    "colab": {
     "base_uri": "https://localhost:8080/"
    },
    "executionInfo": {
     "elapsed": 277,
     "status": "ok",
     "timestamp": 1645404010649,
     "user": {
      "displayName": "Serdar AKYOL",
      "photoUrl": "https://lh3.googleusercontent.com/a-/AOh14GhFoEhTTdnKtbAMCf_KR00rHfafHKDcsas7YjsxIA=s64",
      "userId": "13192402314406047829"
     },
     "user_tz": -60
    },
    "id": "onqPYHtDHPPg",
    "outputId": "5607791d-59d8-4ab2-f8c1-d12079b806d2"
   },
   "outputs": [
    {
     "data": {
      "text/plain": [
       "765866d8167564278da2cf67aac203af    1\n",
       "18a1e673c8236bf193f5fd367352b24a    1\n",
       "cf6ac97836b67337ca0ed41de1021b1d    1\n",
       "bad45d891077b066369e8444d8a3273a    1\n",
       "2bcb31762fdd0f8479ebbae3ac83e17d    1\n",
       "                                   ..\n",
       "8ba96ecae0ec5564667d0c585dc82e6c    1\n",
       "62c656454cd575653cb8ecc7b8e9b259    1\n",
       "048f657cac193bac0ebeb6a070e5a374    1\n",
       "17f27e0a23735e21fae57a83b1081130    1\n",
       "d27dc645037fa7e7cec6e13085704db5    1\n",
       "Name: id, Length: 12000, dtype: int64"
      ]
     },
     "execution_count": 5,
     "metadata": {},
     "output_type": "execute_result"
    }
   ],
   "source": [
    "train_df['id'].value_counts()\n",
    "# checked if there are duplicated person bbut there are not"
   ]
  },
  {
   "cell_type": "code",
   "execution_count": 6,
   "metadata": {
    "colab": {
     "base_uri": "https://localhost:8080/"
    },
    "executionInfo": {
     "elapsed": 293,
     "status": "ok",
     "timestamp": 1645404012821,
     "user": {
      "displayName": "Serdar AKYOL",
      "photoUrl": "https://lh3.googleusercontent.com/a-/AOh14GhFoEhTTdnKtbAMCf_KR00rHfafHKDcsas7YjsxIA=s64",
      "userId": "13192402314406047829"
     },
     "user_tz": -60
    },
    "id": "P3LvLhkmHhWm",
    "outputId": "92755170-c2a1-4885-dae1-ae24a7b8d7b4"
   },
   "outputs": [
    {
     "data": {
      "text/plain": [
       "id                                False\n",
       "category                          False\n",
       "is_liquid                         False\n",
       "nutritional_saturated_fat_100g     True\n",
       "nutritional_carbohydrates_100g     True\n",
       "nutritional_fat_100g               True\n",
       "nutritional_sugars_100g            True\n",
       "nutritional_proteins_100g          True\n",
       "nutritional_fiber_100g             True\n",
       "nutritional_energy_100g            True\n",
       "nutritional_salt_100g              True\n",
       "ingredients_ordered               False\n",
       "target                            False\n",
       "dtype: bool"
      ]
     },
     "execution_count": 6,
     "metadata": {},
     "output_type": "execute_result"
    }
   ],
   "source": [
    "train_df.isnull().any()\n",
    "# checked null values in dataset.\n",
    "# Null values are mostly on float columns. Therefore I can calculate each column average and fill null values with average values"
   ]
  },
  {
   "cell_type": "code",
   "execution_count": 7,
   "metadata": {
    "colab": {
     "base_uri": "https://localhost:8080/"
    },
    "executionInfo": {
     "elapsed": 380,
     "status": "ok",
     "timestamp": 1645404013525,
     "user": {
      "displayName": "Serdar AKYOL",
      "photoUrl": "https://lh3.googleusercontent.com/a-/AOh14GhFoEhTTdnKtbAMCf_KR00rHfafHKDcsas7YjsxIA=s64",
      "userId": "13192402314406047829"
     },
     "user_tz": -60
    },
    "id": "8_B3OdpRIQqS",
    "outputId": "81947f26-0457-4596-ec32-0e0ae39be352"
   },
   "outputs": [
    {
     "data": {
      "text/plain": [
       "id                                  0\n",
       "category                            0\n",
       "is_liquid                           0\n",
       "nutritional_saturated_fat_100g    338\n",
       "nutritional_carbohydrates_100g    557\n",
       "nutritional_fat_100g              134\n",
       "nutritional_sugars_100g           320\n",
       "nutritional_proteins_100g         283\n",
       "nutritional_fiber_100g            410\n",
       "nutritional_energy_100g           341\n",
       "nutritional_salt_100g             508\n",
       "ingredients_ordered                 0\n",
       "target                              0\n",
       "dtype: int64"
      ]
     },
     "execution_count": 7,
     "metadata": {},
     "output_type": "execute_result"
    }
   ],
   "source": [
    "# calcuate how many null values that we have in dataset\n",
    "train_df.isnull().sum()\n",
    "# there are lot of null values. Let's check how many item have each column"
   ]
  },
  {
   "cell_type": "markdown",
   "metadata": {
    "id": "SEyAY5KiL7dH"
   },
   "source": [
    "# Feature engineering"
   ]
  },
  {
   "cell_type": "code",
   "execution_count": 8,
   "metadata": {
    "executionInfo": {
     "elapsed": 6,
     "status": "ok",
     "timestamp": 1645404014781,
     "user": {
      "displayName": "Serdar AKYOL",
      "photoUrl": "https://lh3.googleusercontent.com/a-/AOh14GhFoEhTTdnKtbAMCf_KR00rHfafHKDcsas7YjsxIA=s64",
      "userId": "13192402314406047829"
     },
     "user_tz": -60
    },
    "id": "pjY2ZQT_MtFk"
   },
   "outputs": [],
   "source": [
    "import ast\n",
    "\n",
    "class PrepareDataset:\n",
    "    def __init__(self, dataset, labelencoder):\n",
    "        self.dataset = dataset\n",
    "        self.le = labelencoder\n",
    "    \n",
    "    # convert string to list of string\n",
    "    def string2list(self, datum):\n",
    "        return ast.literal_eval(datum)\n",
    "    \n",
    "    def counter(self, datum):\n",
    "        return len(datum)\n",
    "    \n",
    "    def encode_list_of_string(self):\n",
    "        # get unique items\n",
    "        unique_ingredients = []\n",
    "        for ingredients in self.dataset['ingredients_ordered']:\n",
    "            for item in ingredients:\n",
    "                if item not in unique_ingredients:\n",
    "                    unique_ingredients.append(item)\n",
    "        \n",
    "        self.le.fit(unique_ingredients)\n",
    "        encoded_ingredients = self.dataset['ingredients_ordered'].apply(lambda x:le.transform(x))\n",
    "        self.dataset['encoded_ingredients_ordered'] = encoded_ingredients\n",
    "\n",
    "    def prepare(self):\n",
    "        # this is for train LSTM model but for now, I am going to train traditional models. It's here for show that I can do\n",
    "        convert2list = lambda ingredients_string_data: self.string2list(ingredients_string_data)\n",
    "        self.dataset['ingredients_ordered'] = self.dataset['ingredients_ordered'].apply(convert2list)\n",
    "\n",
    "\n",
    "        # encode list of string values\n",
    "        self.encode_list_of_string()\n",
    "\n",
    "        # fill null values with average of column\n",
    "        keys = self.dataset.isnull().sum().keys()\n",
    "        vals = self.dataset.isnull().sum().values\n",
    "        for i, value in enumerate(vals):\n",
    "            if value > 0:\n",
    "                self.dataset[keys[i]].fillna((self.dataset[keys[i]].mean()), inplace=True)\n",
    "        \n",
    "        # encode category\n",
    "        self.dataset['category'] = self.le.fit_transform(self.dataset['category'])\n",
    "        \n",
    "        # get number of ingredients as a feature\n",
    "        get_item_numbers = lambda ingredients_list_data: self.counter(ingredients_list_data)\n",
    "        self.dataset['ingredients_ordered'] = self.dataset['ingredients_ordered'].apply(get_item_numbers)\n",
    "\n",
    "        # drop columns which i wont use in train\n",
    "        self.dataset = self.dataset.drop(['id', 'encoded_ingredients_ordered'], axis=1)\n",
    "\n",
    "        return self.dataset"
   ]
  },
  {
   "cell_type": "code",
   "execution_count": 9,
   "metadata": {
    "colab": {
     "base_uri": "https://localhost:8080/",
     "height": 708
    },
    "executionInfo": {
     "elapsed": 31898,
     "status": "ok",
     "timestamp": 1645404047020,
     "user": {
      "displayName": "Serdar AKYOL",
      "photoUrl": "https://lh3.googleusercontent.com/a-/AOh14GhFoEhTTdnKtbAMCf_KR00rHfafHKDcsas7YjsxIA=s64",
      "userId": "13192402314406047829"
     },
     "user_tz": -60
    },
    "id": "PEIwByzIOBmt",
    "outputId": "f4b2a919-b430-4747-dced-9ab23f53d742"
   },
   "outputs": [
    {
     "data": {
      "text/plain": [
       "<AxesSubplot:>"
      ]
     },
     "execution_count": 9,
     "metadata": {},
     "output_type": "execute_result"
    },
    {
     "data": {
      "image/png": "[encoded data removed]",
      "text/plain": [
       "<Figure size 1080x648 with 2 Axes>"
      ]
     },
     "metadata": {
      "needs_background": "light"
     },
     "output_type": "display_data"
    }
   ],
   "source": [
    "from sklearn.preprocessing import LabelEncoder\n",
    "import seaborn as sns\n",
    "import matplotlib.pyplot as plt\n",
    "\n",
    "# convert object data to float\n",
    "le = LabelEncoder()\n",
    "\n",
    "# prepare dataset\n",
    "train_preparer = PrepareDataset(train_df, le)\n",
    "train_df = train_preparer.prepare()\n",
    "\n",
    "# visualize correlation\n",
    "fig = plt.figure(figsize = (15, 9))\n",
    "sns.heatmap(train_df.corr(), annot=True)"
   ]
  },
  {
   "cell_type": "code",
   "execution_count": 10,
   "metadata": {},
   "outputs": [
    {
     "data": {
      "text/html": [
       "<div>\n",
       "<style scoped>\n",
       "    .dataframe tbody tr th:only-of-type {\n",
       "        vertical-align: middle;\n",
       "    }\n",
       "\n",
       "    .dataframe tbody tr th {\n",
       "        vertical-align: top;\n",
       "    }\n",
       "\n",
       "    .dataframe thead th {\n",
       "        text-align: right;\n",
       "    }\n",
       "</style>\n",
       "<table border=\"1\" class=\"dataframe\">\n",
       "  <thead>\n",
       "    <tr style=\"text-align: right;\">\n",
       "      <th></th>\n",
       "      <th>category</th>\n",
       "      <th>is_liquid</th>\n",
       "      <th>nutritional_saturated_fat_100g</th>\n",
       "      <th>nutritional_carbohydrates_100g</th>\n",
       "      <th>nutritional_fat_100g</th>\n",
       "      <th>nutritional_sugars_100g</th>\n",
       "      <th>nutritional_proteins_100g</th>\n",
       "      <th>nutritional_fiber_100g</th>\n",
       "      <th>nutritional_energy_100g</th>\n",
       "      <th>nutritional_salt_100g</th>\n",
       "      <th>ingredients_ordered</th>\n",
       "      <th>target</th>\n",
       "    </tr>\n",
       "  </thead>\n",
       "  <tbody>\n",
       "    <tr>\n",
       "      <th>0</th>\n",
       "      <td>37</td>\n",
       "      <td>0</td>\n",
       "      <td>1.9</td>\n",
       "      <td>25.106827</td>\n",
       "      <td>16.8</td>\n",
       "      <td>0.8</td>\n",
       "      <td>16.7</td>\n",
       "      <td>4.3</td>\n",
       "      <td>272.0</td>\n",
       "      <td>1.41</td>\n",
       "      <td>20</td>\n",
       "      <td>1</td>\n",
       "    </tr>\n",
       "    <tr>\n",
       "      <th>1</th>\n",
       "      <td>29</td>\n",
       "      <td>0</td>\n",
       "      <td>0.9</td>\n",
       "      <td>51.000000</td>\n",
       "      <td>4.7</td>\n",
       "      <td>7.4</td>\n",
       "      <td>8.9</td>\n",
       "      <td>3.2</td>\n",
       "      <td>291.0</td>\n",
       "      <td>1.40</td>\n",
       "      <td>20</td>\n",
       "      <td>1</td>\n",
       "    </tr>\n",
       "    <tr>\n",
       "      <th>2</th>\n",
       "      <td>38</td>\n",
       "      <td>0</td>\n",
       "      <td>0.0</td>\n",
       "      <td>1.000000</td>\n",
       "      <td>0.0</td>\n",
       "      <td>0.0</td>\n",
       "      <td>0.7</td>\n",
       "      <td>1.2</td>\n",
       "      <td>9.0</td>\n",
       "      <td>0.80</td>\n",
       "      <td>8</td>\n",
       "      <td>0</td>\n",
       "    </tr>\n",
       "    <tr>\n",
       "      <th>3</th>\n",
       "      <td>29</td>\n",
       "      <td>0</td>\n",
       "      <td>0.6</td>\n",
       "      <td>49.000000</td>\n",
       "      <td>3.6</td>\n",
       "      <td>3.2</td>\n",
       "      <td>9.2</td>\n",
       "      <td>5.5</td>\n",
       "      <td>276.0</td>\n",
       "      <td>0.98</td>\n",
       "      <td>19</td>\n",
       "      <td>1</td>\n",
       "    </tr>\n",
       "    <tr>\n",
       "      <th>4</th>\n",
       "      <td>3</td>\n",
       "      <td>0</td>\n",
       "      <td>0.0</td>\n",
       "      <td>79.000000</td>\n",
       "      <td>1.0</td>\n",
       "      <td>0.0</td>\n",
       "      <td>5.1</td>\n",
       "      <td>0.0</td>\n",
       "      <td>352.0</td>\n",
       "      <td>0.00</td>\n",
       "      <td>1</td>\n",
       "      <td>1</td>\n",
       "    </tr>\n",
       "    <tr>\n",
       "      <th>...</th>\n",
       "      <td>...</td>\n",
       "      <td>...</td>\n",
       "      <td>...</td>\n",
       "      <td>...</td>\n",
       "      <td>...</td>\n",
       "      <td>...</td>\n",
       "      <td>...</td>\n",
       "      <td>...</td>\n",
       "      <td>...</td>\n",
       "      <td>...</td>\n",
       "      <td>...</td>\n",
       "      <td>...</td>\n",
       "    </tr>\n",
       "    <tr>\n",
       "      <th>11995</th>\n",
       "      <td>41</td>\n",
       "      <td>0</td>\n",
       "      <td>5.0</td>\n",
       "      <td>14.400000</td>\n",
       "      <td>7.7</td>\n",
       "      <td>14.1</td>\n",
       "      <td>2.9</td>\n",
       "      <td>0.0</td>\n",
       "      <td>39.0</td>\n",
       "      <td>0.10</td>\n",
       "      <td>11</td>\n",
       "      <td>1</td>\n",
       "    </tr>\n",
       "    <tr>\n",
       "      <th>11996</th>\n",
       "      <td>12</td>\n",
       "      <td>0</td>\n",
       "      <td>3.5</td>\n",
       "      <td>0.200000</td>\n",
       "      <td>16.0</td>\n",
       "      <td>0.0</td>\n",
       "      <td>1.3</td>\n",
       "      <td>3.1</td>\n",
       "      <td>156.0</td>\n",
       "      <td>2.60</td>\n",
       "      <td>8</td>\n",
       "      <td>0</td>\n",
       "    </tr>\n",
       "    <tr>\n",
       "      <th>11997</th>\n",
       "      <td>8</td>\n",
       "      <td>0</td>\n",
       "      <td>2.3</td>\n",
       "      <td>1.500000</td>\n",
       "      <td>6.5</td>\n",
       "      <td>1.3</td>\n",
       "      <td>17.5</td>\n",
       "      <td>0.0</td>\n",
       "      <td>135.0</td>\n",
       "      <td>2.20</td>\n",
       "      <td>9</td>\n",
       "      <td>1</td>\n",
       "    </tr>\n",
       "    <tr>\n",
       "      <th>11998</th>\n",
       "      <td>33</td>\n",
       "      <td>0</td>\n",
       "      <td>6.8</td>\n",
       "      <td>3.500000</td>\n",
       "      <td>10.0</td>\n",
       "      <td>3.5</td>\n",
       "      <td>11.0</td>\n",
       "      <td>0.0</td>\n",
       "      <td>153.0</td>\n",
       "      <td>2.50</td>\n",
       "      <td>14</td>\n",
       "      <td>1</td>\n",
       "    </tr>\n",
       "    <tr>\n",
       "      <th>11999</th>\n",
       "      <td>2</td>\n",
       "      <td>0</td>\n",
       "      <td>5.0</td>\n",
       "      <td>49.800000</td>\n",
       "      <td>32.8</td>\n",
       "      <td>0.5</td>\n",
       "      <td>6.5</td>\n",
       "      <td>5.4</td>\n",
       "      <td>531.0</td>\n",
       "      <td>0.70</td>\n",
       "      <td>2</td>\n",
       "      <td>1</td>\n",
       "    </tr>\n",
       "  </tbody>\n",
       "</table>\n",
       "<p>12000 rows × 12 columns</p>\n",
       "</div>"
      ],
      "text/plain": [
       "       category  is_liquid  nutritional_saturated_fat_100g  \\\n",
       "0            37          0                             1.9   \n",
       "1            29          0                             0.9   \n",
       "2            38          0                             0.0   \n",
       "3            29          0                             0.6   \n",
       "4             3          0                             0.0   \n",
       "...         ...        ...                             ...   \n",
       "11995        41          0                             5.0   \n",
       "11996        12          0                             3.5   \n",
       "11997         8          0                             2.3   \n",
       "11998        33          0                             6.8   \n",
       "11999         2          0                             5.0   \n",
       "\n",
       "       nutritional_carbohydrates_100g  nutritional_fat_100g  \\\n",
       "0                           25.106827                  16.8   \n",
       "1                           51.000000                   4.7   \n",
       "2                            1.000000                   0.0   \n",
       "3                           49.000000                   3.6   \n",
       "4                           79.000000                   1.0   \n",
       "...                               ...                   ...   \n",
       "11995                       14.400000                   7.7   \n",
       "11996                        0.200000                  16.0   \n",
       "11997                        1.500000                   6.5   \n",
       "11998                        3.500000                  10.0   \n",
       "11999                       49.800000                  32.8   \n",
       "\n",
       "       nutritional_sugars_100g  nutritional_proteins_100g  \\\n",
       "0                          0.8                       16.7   \n",
       "1                          7.4                        8.9   \n",
       "2                          0.0                        0.7   \n",
       "3                          3.2                        9.2   \n",
       "4                          0.0                        5.1   \n",
       "...                        ...                        ...   \n",
       "11995                     14.1                        2.9   \n",
       "11996                      0.0                        1.3   \n",
       "11997                      1.3                       17.5   \n",
       "11998                      3.5                       11.0   \n",
       "11999                      0.5                        6.5   \n",
       "\n",
       "       nutritional_fiber_100g  nutritional_energy_100g  nutritional_salt_100g  \\\n",
       "0                         4.3                    272.0                   1.41   \n",
       "1                         3.2                    291.0                   1.40   \n",
       "2                         1.2                      9.0                   0.80   \n",
       "3                         5.5                    276.0                   0.98   \n",
       "4                         0.0                    352.0                   0.00   \n",
       "...                       ...                      ...                    ...   \n",
       "11995                     0.0                     39.0                   0.10   \n",
       "11996                     3.1                    156.0                   2.60   \n",
       "11997                     0.0                    135.0                   2.20   \n",
       "11998                     0.0                    153.0                   2.50   \n",
       "11999                     5.4                    531.0                   0.70   \n",
       "\n",
       "       ingredients_ordered  target  \n",
       "0                       20       1  \n",
       "1                       20       1  \n",
       "2                        8       0  \n",
       "3                       19       1  \n",
       "4                        1       1  \n",
       "...                    ...     ...  \n",
       "11995                   11       1  \n",
       "11996                    8       0  \n",
       "11997                    9       1  \n",
       "11998                   14       1  \n",
       "11999                    2       1  \n",
       "\n",
       "[12000 rows x 12 columns]"
      ]
     },
     "execution_count": 10,
     "metadata": {},
     "output_type": "execute_result"
    }
   ],
   "source": [
    "train_df"
   ]
  },
  {
   "cell_type": "markdown",
   "metadata": {
    "id": "kRz2DTnFYD2T"
   },
   "source": [
    "Correlation shows that target related with nutritional_sugars_100gr, nutritional_carbohydrates_100gr and ingridients_ordered. But the correlation score is not so good to tell it's totally related"
   ]
  },
  {
   "cell_type": "markdown",
   "metadata": {
    "id": "a3XrBKYQakoW"
   },
   "source": [
    "# Train"
   ]
  },
  {
   "cell_type": "code",
   "execution_count": 11,
   "metadata": {
    "executionInfo": {
     "elapsed": 22,
     "status": "ok",
     "timestamp": 1645404047021,
     "user": {
      "displayName": "Serdar AKYOL",
      "photoUrl": "https://lh3.googleusercontent.com/a-/AOh14GhFoEhTTdnKtbAMCf_KR00rHfafHKDcsas7YjsxIA=s64",
      "userId": "13192402314406047829"
     },
     "user_tz": -60
    },
    "id": "XcG-Nqcsazn3"
   },
   "outputs": [],
   "source": [
    "# get features and labels\n",
    "train_labels = train_df['target']\n",
    "train_df = train_df.drop(['target'], axis=1)\n",
    "train_features = train_df[train_df.columns.values]"
   ]
  },
  {
   "cell_type": "code",
   "execution_count": 12,
   "metadata": {
    "colab": {
     "base_uri": "https://localhost:8080/"
    },
    "executionInfo": {
     "elapsed": 27,
     "status": "ok",
     "timestamp": 1645399922479,
     "user": {
      "displayName": "Serdar AKYOL",
      "photoUrl": "https://lh3.googleusercontent.com/a-/AOh14GhFoEhTTdnKtbAMCf_KR00rHfafHKDcsas7YjsxIA=s64",
      "userId": "13192402314406047829"
     },
     "user_tz": -60
    },
    "id": "ZmcjOeUtcngU",
    "outputId": "964af17f-679a-46c1-db0e-060711e6ecf4"
   },
   "outputs": [
    {
     "name": "stdout",
     "output_type": "stream",
     "text": [
      "for_1 ==>  0.6015\n",
      "for_0 ==>  0.3985\n"
     ]
    }
   ],
   "source": [
    "# Before I checked targets and I released that the data is unbalanced. So I need to define weights for logistic regression model\n",
    "# I will get percentage of classes and give weightes like that\n",
    "tot = 7218+4782\n",
    "for_1 = 7218/tot\n",
    "for_0 = 4782/tot\n",
    "\n",
    "print(\"for_1 ==> \", for_1)\n",
    "print(\"for_0 ==> \", for_0)\n",
    "# give weightes for unbalanced. Fine tune logistic regression\n",
    "lg_weights = {0:for_1, 1:for_0}"
   ]
  },
  {
   "cell_type": "code",
   "execution_count": 13,
   "metadata": {
    "executionInfo": {
     "elapsed": 22,
     "status": "ok",
     "timestamp": 1645399922480,
     "user": {
      "displayName": "Serdar AKYOL",
      "photoUrl": "https://lh3.googleusercontent.com/a-/AOh14GhFoEhTTdnKtbAMCf_KR00rHfafHKDcsas7YjsxIA=s64",
      "userId": "13192402314406047829"
     },
     "user_tz": -60
    },
    "id": "kT_pSr11vK2T"
   },
   "outputs": [],
   "source": [
    "from sklearn.svm import SVC\n",
    "from sklearn.linear_model import LogisticRegression\n",
    "from sklearn.naive_bayes import GaussianNB, ComplementNB\n",
    "from sklearn.neighbors import KNeighborsClassifier\n",
    "from sklearn.ensemble import RandomForestClassifier\n",
    "\n",
    "class Trainer:\n",
    "    def __init__(self, features, labels, lg_ft) -> None:\n",
    "        self.features = features\n",
    "        self.labels = labels\n",
    "        self.lg_ft = lg_ft\n",
    "        self.svm = SVC(kernel='linear', gamma='auto')\n",
    "        self.log_reg = LogisticRegression(random_state=0, class_weight=self.lg_ft)\n",
    "        self.gaussian = GaussianNB()\n",
    "        self.knn = KNeighborsClassifier(n_neighbors=3)\n",
    "        self.randon_forest = RandomForestClassifier()\n",
    "    \n",
    "    def train_models(self):\n",
    "        log_reg_model = self.log_reg.fit(self.features, self.labels)\n",
    "        print(\"LogisticRegression model trained\")\n",
    "        gaussian_model = self.gaussian.fit(self.features, self.labels)\n",
    "        print(\"GaussianNB model trained\")\n",
    "        knn_model = self.knn.fit(self.features, self.labels)\n",
    "        print(\"KNeighborsClassifier model trained\")\n",
    "        random_forest_model = self.randon_forest.fit(self.features, self.labels)\n",
    "        print(\"RandomForestClassifier model trained\")\n",
    "        svm_model = self.svm.fit(self.features, self.labels)\n",
    "        print(\"SVM model trained\")\n",
    "\n",
    "        return svm_model, log_reg_model, gaussian_model, knn_model, random_forest_model"
   ]
  },
  {
   "cell_type": "code",
   "execution_count": 14,
   "metadata": {
    "colab": {
     "base_uri": "https://localhost:8080/"
    },
    "executionInfo": {
     "elapsed": 984522,
     "status": "ok",
     "timestamp": 1645400906981,
     "user": {
      "displayName": "Serdar AKYOL",
      "photoUrl": "https://lh3.googleusercontent.com/a-/AOh14GhFoEhTTdnKtbAMCf_KR00rHfafHKDcsas7YjsxIA=s64",
      "userId": "13192402314406047829"
     },
     "user_tz": -60
    },
    "id": "8zyRI2_TwCOl",
    "outputId": "428525f8-2375-4597-8cb5-02c0e1fd2f60"
   },
   "outputs": [
    {
     "name": "stdout",
     "output_type": "stream",
     "text": [
      "LogisticRegression model trained\n",
      "GaussianNB model trained\n",
      "KNeighborsClassifier model trained\n",
      "RandomForestClassifier model trained\n",
      "SVM model trained\n"
     ]
    }
   ],
   "source": [
    "trainer = Trainer(features=train_features, labels=train_labels, lg_ft=lg_weights)\n",
    "models = trainer.train_models()"
   ]
  },
  {
   "cell_type": "code",
   "execution_count": 15,
   "metadata": {
    "colab": {
     "base_uri": "https://localhost:8080/"
    },
    "executionInfo": {
     "elapsed": 3837,
     "status": "ok",
     "timestamp": 1645400914332,
     "user": {
      "displayName": "Serdar AKYOL",
      "photoUrl": "https://lh3.googleusercontent.com/a-/AOh14GhFoEhTTdnKtbAMCf_KR00rHfafHKDcsas7YjsxIA=s64",
      "userId": "13192402314406047829"
     },
     "user_tz": -60
    },
    "id": "9AFAe9KQ7xF0",
    "outputId": "c531bb40-13cf-456b-df44-3969987d26da"
   },
   "outputs": [
    {
     "name": "stdout",
     "output_type": "stream",
     "text": [
      "82.47% train accuracy ===> SVC(gamma='auto', kernel='linear')\n",
      "80.36% train accuracy ===> LogisticRegression(class_weight={0: 0.6015, 1: 0.3985}, random_state=0)\n",
      "73.18% train accuracy ===> GaussianNB()\n",
      "93.95% train accuracy ===> KNeighborsClassifier(n_neighbors=3)\n",
      "99.9% train accuracy ===> RandomForestClassifier()\n"
     ]
    }
   ],
   "source": [
    "# Check training accuracy\n",
    "for model in models:\n",
    "    test_acc = model.score(train_features, train_labels)\n",
    "    print(f\"{str(round(test_acc * 100,2))}% train accuracy ===> {str(model)}\")"
   ]
  },
  {
   "cell_type": "markdown",
   "metadata": {
    "id": "8cnD1jCsuseS"
   },
   "source": [
    "# Evaluate"
   ]
  },
  {
   "cell_type": "code",
   "execution_count": 16,
   "metadata": {
    "colab": {
     "base_uri": "https://localhost:8080/",
     "height": 270
    },
    "executionInfo": {
     "elapsed": 4604,
     "status": "ok",
     "timestamp": 1645405351503,
     "user": {
      "displayName": "Serdar AKYOL",
      "photoUrl": "https://lh3.googleusercontent.com/a-/AOh14GhFoEhTTdnKtbAMCf_KR00rHfafHKDcsas7YjsxIA=s64",
      "userId": "13192402314406047829"
     },
     "user_tz": -60
    },
    "id": "9-_tAQ9HgKmz",
    "outputId": "6a3ad6e5-bac2-4384-8f62-057fcae41a1c"
   },
   "outputs": [
    {
     "data": {
      "text/html": [
       "<div>\n",
       "<style scoped>\n",
       "    .dataframe tbody tr th:only-of-type {\n",
       "        vertical-align: middle;\n",
       "    }\n",
       "\n",
       "    .dataframe tbody tr th {\n",
       "        vertical-align: top;\n",
       "    }\n",
       "\n",
       "    .dataframe thead th {\n",
       "        text-align: right;\n",
       "    }\n",
       "</style>\n",
       "<table border=\"1\" class=\"dataframe\">\n",
       "  <thead>\n",
       "    <tr style=\"text-align: right;\">\n",
       "      <th></th>\n",
       "      <th>category</th>\n",
       "      <th>is_liquid</th>\n",
       "      <th>nutritional_saturated_fat_100g</th>\n",
       "      <th>nutritional_carbohydrates_100g</th>\n",
       "      <th>nutritional_fat_100g</th>\n",
       "      <th>nutritional_sugars_100g</th>\n",
       "      <th>nutritional_proteins_100g</th>\n",
       "      <th>nutritional_fiber_100g</th>\n",
       "      <th>nutritional_energy_100g</th>\n",
       "      <th>nutritional_salt_100g</th>\n",
       "      <th>ingredients_ordered</th>\n",
       "      <th>target</th>\n",
       "    </tr>\n",
       "  </thead>\n",
       "  <tbody>\n",
       "    <tr>\n",
       "      <th>0</th>\n",
       "      <td>39</td>\n",
       "      <td>0</td>\n",
       "      <td>2.0</td>\n",
       "      <td>4.000000</td>\n",
       "      <td>3.0</td>\n",
       "      <td>4.0</td>\n",
       "      <td>3.3</td>\n",
       "      <td>0.0</td>\n",
       "      <td>246.0</td>\n",
       "      <td>1.268215</td>\n",
       "      <td>3</td>\n",
       "      <td>0</td>\n",
       "    </tr>\n",
       "    <tr>\n",
       "      <th>1</th>\n",
       "      <td>33</td>\n",
       "      <td>0</td>\n",
       "      <td>19.4</td>\n",
       "      <td>0.980000</td>\n",
       "      <td>27.0</td>\n",
       "      <td>0.1</td>\n",
       "      <td>19.4</td>\n",
       "      <td>0.0</td>\n",
       "      <td>325.0</td>\n",
       "      <td>1.268215</td>\n",
       "      <td>3</td>\n",
       "      <td>0</td>\n",
       "    </tr>\n",
       "    <tr>\n",
       "      <th>2</th>\n",
       "      <td>14</td>\n",
       "      <td>0</td>\n",
       "      <td>0.0</td>\n",
       "      <td>15.000000</td>\n",
       "      <td>0.1</td>\n",
       "      <td>12.5</td>\n",
       "      <td>0.3</td>\n",
       "      <td>0.7</td>\n",
       "      <td>62.0</td>\n",
       "      <td>0.010000</td>\n",
       "      <td>5</td>\n",
       "      <td>1</td>\n",
       "    </tr>\n",
       "    <tr>\n",
       "      <th>3</th>\n",
       "      <td>10</td>\n",
       "      <td>0</td>\n",
       "      <td>3.0</td>\n",
       "      <td>25.587791</td>\n",
       "      <td>8.0</td>\n",
       "      <td>1.0</td>\n",
       "      <td>40.0</td>\n",
       "      <td>0.0</td>\n",
       "      <td>236.0</td>\n",
       "      <td>4.500000</td>\n",
       "      <td>8</td>\n",
       "      <td>0</td>\n",
       "    </tr>\n",
       "    <tr>\n",
       "      <th>4</th>\n",
       "      <td>35</td>\n",
       "      <td>0</td>\n",
       "      <td>0.4</td>\n",
       "      <td>6.000000</td>\n",
       "      <td>3.1</td>\n",
       "      <td>6.0</td>\n",
       "      <td>1.1</td>\n",
       "      <td>1.3</td>\n",
       "      <td>59.0</td>\n",
       "      <td>1.000000</td>\n",
       "      <td>7</td>\n",
       "      <td>1</td>\n",
       "    </tr>\n",
       "  </tbody>\n",
       "</table>\n",
       "</div>"
      ],
      "text/plain": [
       "   category  is_liquid  nutritional_saturated_fat_100g  \\\n",
       "0        39          0                             2.0   \n",
       "1        33          0                            19.4   \n",
       "2        14          0                             0.0   \n",
       "3        10          0                             3.0   \n",
       "4        35          0                             0.4   \n",
       "\n",
       "   nutritional_carbohydrates_100g  nutritional_fat_100g  \\\n",
       "0                        4.000000                   3.0   \n",
       "1                        0.980000                  27.0   \n",
       "2                       15.000000                   0.1   \n",
       "3                       25.587791                   8.0   \n",
       "4                        6.000000                   3.1   \n",
       "\n",
       "   nutritional_sugars_100g  nutritional_proteins_100g  nutritional_fiber_100g  \\\n",
       "0                      4.0                        3.3                     0.0   \n",
       "1                      0.1                       19.4                     0.0   \n",
       "2                     12.5                        0.3                     0.7   \n",
       "3                      1.0                       40.0                     0.0   \n",
       "4                      6.0                        1.1                     1.3   \n",
       "\n",
       "   nutritional_energy_100g  nutritional_salt_100g  ingredients_ordered  target  \n",
       "0                    246.0               1.268215                    3       0  \n",
       "1                    325.0               1.268215                    3       0  \n",
       "2                     62.0               0.010000                    5       1  \n",
       "3                    236.0               4.500000                    8       0  \n",
       "4                     59.0               1.000000                    7       1  "
      ]
     },
     "execution_count": 16,
     "metadata": {},
     "output_type": "execute_result"
    }
   ],
   "source": [
    "# preprocess for test data\n",
    "test_df = pd.read_csv('../data/test.csv')\n",
    "test_preparer = PrepareDataset(test_df, le)\n",
    "test_df = test_preparer.prepare()\n",
    "test_df.head()"
   ]
  },
  {
   "cell_type": "code",
   "execution_count": 17,
   "metadata": {
    "executionInfo": {
     "elapsed": 447,
     "status": "ok",
     "timestamp": 1645405354698,
     "user": {
      "displayName": "Serdar AKYOL",
      "photoUrl": "https://lh3.googleusercontent.com/a-/AOh14GhFoEhTTdnKtbAMCf_KR00rHfafHKDcsas7YjsxIA=s64",
      "userId": "13192402314406047829"
     },
     "user_tz": -60
    },
    "id": "EZcPeA3wkdDp"
   },
   "outputs": [],
   "source": [
    "# get test features and labels\n",
    "test_labels = test_df['target']\n",
    "test_df = test_df.drop(['target'], axis=1)\n",
    "test_features = test_df[test_df.columns.values]"
   ]
  },
  {
   "cell_type": "code",
   "execution_count": 18,
   "metadata": {
    "colab": {
     "base_uri": "https://localhost:8080/"
    },
    "executionInfo": {
     "elapsed": 1539,
     "status": "ok",
     "timestamp": 1645401574805,
     "user": {
      "displayName": "Serdar AKYOL",
      "photoUrl": "https://lh3.googleusercontent.com/a-/AOh14GhFoEhTTdnKtbAMCf_KR00rHfafHKDcsas7YjsxIA=s64",
      "userId": "13192402314406047829"
     },
     "user_tz": -60
    },
    "id": "4KsQ8hLklklX",
    "outputId": "8a5dc8ea-859f-4e91-a814-dc71f8fde5fe"
   },
   "outputs": [
    {
     "name": "stdout",
     "output_type": "stream",
     "text": [
      "81.6% test accuracy ===> SVC(gamma='auto', kernel='linear')\n",
      "79.73% test accuracy ===> LogisticRegression(class_weight={0: 0.6015, 1: 0.3985}, random_state=0)\n",
      "72.7% test accuracy ===> GaussianNB()\n",
      "88.63% test accuracy ===> KNeighborsClassifier(n_neighbors=3)\n",
      "93.03% test accuracy ===> RandomForestClassifier()\n"
     ]
    }
   ],
   "source": [
    "# Evaluate model with acc based on test set\n",
    "for model in models:\n",
    "    test_acc = model.score(test_features, test_labels)\n",
    "    print(f\"{str(round(test_acc * 100,2))}% test accuracy ===> {str(model)}\")"
   ]
  },
  {
   "cell_type": "markdown",
   "metadata": {
    "id": "vbvnhDp-k7Tn"
   },
   "source": [
    "For now random forest is good looking but lets check on cross validation too"
   ]
  },
  {
   "cell_type": "code",
   "execution_count": 19,
   "metadata": {
    "colab": {
     "base_uri": "https://localhost:8080/"
    },
    "executionInfo": {
     "elapsed": 267228,
     "status": "ok",
     "timestamp": 1645401542695,
     "user": {
      "displayName": "Serdar AKYOL",
      "photoUrl": "https://lh3.googleusercontent.com/a-/AOh14GhFoEhTTdnKtbAMCf_KR00rHfafHKDcsas7YjsxIA=s64",
      "userId": "13192402314406047829"
     },
     "user_tz": -60
    },
    "id": "A11oOcSYjtF7",
    "outputId": "0d832bf5-1a1a-45d0-cc56-bf9236c0c42d"
   },
   "outputs": [
    {
     "name": "stdout",
     "output_type": "stream",
     "text": [
      "SVC(gamma='auto', kernel='linear') is evaluating..\n",
      "[0.815      0.82333333 0.81833333 0.81166667 0.81833333]\n",
      "LogisticRegression(class_weight={0: 0.6015, 1: 0.3985}, random_state=0) is evaluating..\n",
      "[0.77666667 0.80833333 0.78833333 0.79333333 0.80666667]\n",
      "GaussianNB() is evaluating..\n",
      "[0.70333333 0.76166667 0.71333333 0.76666667 0.77166667]\n",
      "KNeighborsClassifier(n_neighbors=3) is evaluating..\n",
      "[0.83833333 0.84833333 0.84666667 0.85333333 0.84666667]\n",
      "RandomForestClassifier() is evaluating..\n",
      "[0.90666667 0.915      0.91833333 0.9        0.87      ]\n"
     ]
    }
   ],
   "source": [
    "# Evaluate models on test dataset with cross validation\n",
    "from sklearn.model_selection import cross_val_score\n",
    "\n",
    "for model in models:\n",
    "    print(f\"{str(model)} is evaluating..\")\n",
    "    print(cross_val_score(model, test_features, test_labels))"
   ]
  },
  {
   "cell_type": "markdown",
   "metadata": {},
   "source": [
    "Accuracies and cross validation accuracies are looking well. Cross validation shows that there is no overfitting issue but lets check classification report too"
   ]
  },
  {
   "cell_type": "markdown",
   "metadata": {},
   "source": [
    "Get each prediction for cumpute metrics"
   ]
  },
  {
   "cell_type": "code",
   "execution_count": 20,
   "metadata": {
    "colab": {
     "base_uri": "https://localhost:8080/"
    },
    "executionInfo": {
     "elapsed": 54594,
     "status": "ok",
     "timestamp": 1645402557194,
     "user": {
      "displayName": "Serdar AKYOL",
      "photoUrl": "https://lh3.googleusercontent.com/a-/AOh14GhFoEhTTdnKtbAMCf_KR00rHfafHKDcsas7YjsxIA=s64",
      "userId": "13192402314406047829"
     },
     "user_tz": -60
    },
    "id": "L-7AceEzsbGA",
    "outputId": "c57a48ab-ce4c-4e29-cf97-b527e75c09c1"
   },
   "outputs": [
    {
     "name": "stdout",
     "output_type": "stream",
     "text": [
      "SVC(gamma='auto', kernel='linear')\n",
      "LogisticRegression(class_weight={0: 0.6015, 1: 0.3985}, random_state=0)\n",
      "GaussianNB()\n",
      "KNeighborsClassifier(n_neighbors=3)\n",
      "RandomForestClassifier()\n"
     ]
    }
   ],
   "source": [
    "# predict one by one for visualize prediction perform\n",
    "from sklearn.metrics import accuracy_score, classification_report\n",
    "\n",
    "predictions = []\n",
    "for model in models:\n",
    "    current_pred = {\n",
    "        \"model_name\": str(model),\n",
    "        \"predictions\": []\n",
    "    }\n",
    "    print(current_pred['model_name'])\n",
    "    for index in range(len(test_features)):\n",
    "        feature = test_features.iloc[index].values\n",
    "        current_pred[\"predictions\"].append(model.predict([feature])[0])\n",
    "        \n",
    "    predictions.append(current_pred)"
   ]
  },
  {
   "cell_type": "code",
   "execution_count": 21,
   "metadata": {
    "colab": {
     "base_uri": "https://localhost:8080/"
    },
    "executionInfo": {
     "elapsed": 8,
     "status": "ok",
     "timestamp": 1645402696976,
     "user": {
      "displayName": "Serdar AKYOL",
      "photoUrl": "https://lh3.googleusercontent.com/a-/AOh14GhFoEhTTdnKtbAMCf_KR00rHfafHKDcsas7YjsxIA=s64",
      "userId": "13192402314406047829"
     },
     "user_tz": -60
    },
    "id": "DhaJkGhwo1lV",
    "outputId": "328554da-29cd-4dd2-d1c6-c5343725b527"
   },
   "outputs": [
    {
     "name": "stdout",
     "output_type": "stream",
     "text": [
      "SVC(gamma='auto', kernel='linear')\n",
      "              precision    recall  f1-score   support\n",
      "\n",
      "           0       0.77      0.79      0.78      1218\n",
      "           1       0.85      0.83      0.84      1782\n",
      "\n",
      "    accuracy                           0.82      3000\n",
      "   macro avg       0.81      0.81      0.81      3000\n",
      "weighted avg       0.82      0.82      0.82      3000\n",
      "\n",
      "\n",
      "\n",
      "LogisticRegression(class_weight={0: 0.6015, 1: 0.3985}, random_state=0)\n",
      "              precision    recall  f1-score   support\n",
      "\n",
      "           0       0.71      0.85      0.77      1218\n",
      "           1       0.88      0.76      0.82      1782\n",
      "\n",
      "    accuracy                           0.80      3000\n",
      "   macro avg       0.80      0.81      0.80      3000\n",
      "weighted avg       0.81      0.80      0.80      3000\n",
      "\n",
      "\n",
      "\n",
      "GaussianNB()\n",
      "              precision    recall  f1-score   support\n",
      "\n",
      "           0       0.63      0.80      0.70      1218\n",
      "           1       0.83      0.68      0.75      1782\n",
      "\n",
      "    accuracy                           0.73      3000\n",
      "   macro avg       0.73      0.74      0.73      3000\n",
      "weighted avg       0.75      0.73      0.73      3000\n",
      "\n",
      "\n",
      "\n",
      "KNeighborsClassifier(n_neighbors=3)\n",
      "              precision    recall  f1-score   support\n",
      "\n",
      "           0       0.87      0.85      0.86      1218\n",
      "           1       0.90      0.91      0.90      1782\n",
      "\n",
      "    accuracy                           0.89      3000\n",
      "   macro avg       0.88      0.88      0.88      3000\n",
      "weighted avg       0.89      0.89      0.89      3000\n",
      "\n",
      "\n",
      "\n",
      "RandomForestClassifier()\n",
      "              precision    recall  f1-score   support\n",
      "\n",
      "           0       0.93      0.89      0.91      1218\n",
      "           1       0.93      0.95      0.94      1782\n",
      "\n",
      "    accuracy                           0.93      3000\n",
      "   macro avg       0.93      0.92      0.93      3000\n",
      "weighted avg       0.93      0.93      0.93      3000\n",
      "\n",
      "\n",
      "\n"
     ]
    }
   ],
   "source": [
    "for pred in predictions:\n",
    "    print(pred['model_name'])\n",
    "    print(classification_report(test_labels, pred['predictions']))\n",
    "    print('\\n')"
   ]
  },
  {
   "cell_type": "markdown",
   "metadata": {},
   "source": [
    "Classification reports shows that training was good because classes predicted as well as accuracy score. Let's check AUC and ROC curve for detect the model and threshold"
   ]
  },
  {
   "cell_type": "code",
   "execution_count": 73,
   "metadata": {},
   "outputs": [
    {
     "name": "stdout",
     "output_type": "stream",
     "text": [
      "0.8117270128764381\n",
      "0.8057587367932195\n",
      "0.7381104421334306\n",
      "0.8806745617090445\n",
      "0.9247275712792955\n"
     ]
    },
    {
     "data": {
      "image/png": "[encoded data removed]",
      "text/plain": [
       "<Figure size 1224x576 with 1 Axes>"
      ]
     },
     "metadata": {
      "needs_background": "light"
     },
     "output_type": "display_data"
    }
   ],
   "source": [
    "from sklearn.metrics import auc, roc_curve\n",
    "\n",
    "fig, ax = plt.subplots(figsize=(17, 8))\n",
    "plt.title(\"ROC curve\")\n",
    "for preds in predictions:\n",
    "    fpr, tpr, threshold = roc_curve(test_labels.values, preds['predictions'])\n",
    "    roc_auc = auc(fpr, tpr)\n",
    "    print(roc_auc)\n",
    "\n",
    "    plt.plot(fpr, tpr, label = f\"{str(preds['model_name'])} AUC = %0.2f\" % roc_auc)\n",
    "    plt.legend(loc = 'lower right')\n",
    "    \n",
    "plt.plot([0, 1], [0, 1])\n",
    "plt.xlim([0, 1])\n",
    "plt.ylim([0, 1])\n",
    "plt.ylabel('True Positive Rate')\n",
    "plt.xlabel('False Positive Rate')\n",
    "plt.show()"
   ]
  },
  {
   "cell_type": "markdown",
   "metadata": {},
   "source": [
    "As we can see in the graph random forest is the best with 0.92 threshold. Let's prove it!"
   ]
  },
  {
   "cell_type": "code",
   "execution_count": 72,
   "metadata": {},
   "outputs": [
    {
     "data": {
      "text/plain": [
       "1"
      ]
     },
     "execution_count": 72,
     "metadata": {},
     "output_type": "execute_result"
    }
   ],
   "source": [
    "threshold[np.argmin(np.abs(fpr+tpr-1))]"
   ]
  },
  {
   "cell_type": "code",
   "execution_count": 59,
   "metadata": {},
   "outputs": [
    {
     "data": {
      "text/plain": [
       "array([[0.87, 0.13],\n",
       "       [1.  , 0.  ],\n",
       "       [0.35, 0.65],\n",
       "       ...,\n",
       "       [0.92, 0.08],\n",
       "       [0.11, 0.89],\n",
       "       [0.13, 0.87]])"
      ]
     },
     "execution_count": 59,
     "metadata": {},
     "output_type": "execute_result"
    }
   ],
   "source": [
    "predicted_proba"
   ]
  },
  {
   "cell_type": "code",
   "execution_count": 57,
   "metadata": {},
   "outputs": [
    {
     "data": {
      "text/plain": [
       "array([0.13, 0.  , 0.65, ..., 0.08, 0.89, 0.87])"
      ]
     },
     "execution_count": 58,
     "metadata": {},
     "output_type": "execute_result"
    }
   ],
   "source": [
    "predicted_proba[:,1]"
   ]
  },
  {
   "cell_type": "code",
   "execution_count": 77,
   "metadata": {},
   "outputs": [
    {
     "name": "stdout",
     "output_type": "stream",
     "text": [
      "ACC:  0.9286666666666666\n",
      "              precision    recall  f1-score   support\n",
      "\n",
      "           0       0.94      0.88      0.91      1218\n",
      "           1       0.92      0.96      0.94      1782\n",
      "\n",
      "    accuracy                           0.93      3000\n",
      "   macro avg       0.93      0.92      0.93      3000\n",
      "weighted avg       0.93      0.93      0.93      3000\n",
      "\n"
     ]
    }
   ],
   "source": [
    "thresh = 0.48\n",
    "\n",
    "predicted_proba = models[4].predict_proba(test_features)\n",
    "predicted = (predicted_proba [:,1] >= thresh).astype('int')\n",
    "\n",
    "accuracy = accuracy_score(test_labels, predicted)\n",
    "print(\"ACC: \", accuracy)\n",
    "print(classification_report(test_labels, predicted))"
   ]
  },
  {
   "cell_type": "code",
   "execution_count": null,
   "metadata": {},
   "outputs": [],
   "source": [
    "rf_preds_thresh = []\n",
    "for index in range(len(test_features)):\n",
    "    feature = test_features.iloc[index].values\n",
    "    current_pred[\"predictions\"].append(model.predict([feature])[0])\n",
    "    rf_preds_thresh.append(current_pred)"
   ]
  },
  {
   "cell_type": "markdown",
   "metadata": {},
   "source": [
    "As we can see graphics random forest is best option but we have to make a balance between model accuracy and model size. SMALL MODEL SIZE AND HIGH ACC IS THE BEST"
   ]
  },
  {
   "cell_type": "code",
   "execution_count": 38,
   "metadata": {},
   "outputs": [],
   "source": [
    "import pickle\n",
    "for trained_model in models:\n",
    "    file_path = f\"../models/{str(trained_model)}.pkl\"\n",
    "    with open(file_path, 'wb') as file:\n",
    "        pickle.dump(trained_model, file)"
   ]
  },
  {
   "cell_type": "markdown",
   "metadata": {
    "id": "sC3ZJgl6r_yK"
   },
   "source": [
    "When I save the models random forest 13.7 MB and others KB. If it would be the real product, Definately I would chose Random forest. 13MB is much bigger than other models but for sure prediction time would not get much time."
   ]
  },
  {
   "cell_type": "markdown",
   "metadata": {
    "id": "FO4T8K1Sst5q"
   },
   "source": [
    "improve little bit more random forest"
   ]
  },
  {
   "cell_type": "code",
   "execution_count": 39,
   "metadata": {
    "colab": {
     "base_uri": "https://localhost:8080/"
    },
    "executionInfo": {
     "elapsed": 14771,
     "status": "ok",
     "timestamp": 1645405218481,
     "user": {
      "displayName": "Serdar AKYOL",
      "photoUrl": "https://lh3.googleusercontent.com/a-/AOh14GhFoEhTTdnKtbAMCf_KR00rHfafHKDcsas7YjsxIA=s64",
      "userId": "13192402314406047829"
     },
     "user_tz": -60
    },
    "id": "F_EuB1ANq1r7",
    "outputId": "90d4f862-731a-4dfc-8020-b1c79126422b"
   },
   "outputs": [
    {
     "data": {
      "text/plain": [
       "RandomForestClassifier(max_depth=10, n_estimators=24)"
      ]
     },
     "execution_count": 39,
     "metadata": {},
     "output_type": "execute_result"
    }
   ],
   "source": [
    "from sklearn.ensemble import RandomForestClassifier\n",
    "from sklearn.experimental import enable_halving_search_cv \n",
    "from sklearn.model_selection import HalvingGridSearchCV\n",
    "\n",
    "param_grid = {'max_depth': [3, 5, 10],\n",
    "              'min_samples_split': [2, 5, 10]}\n",
    "base_estimator = RandomForestClassifier()\n",
    "\n",
    "sh = HalvingGridSearchCV(base_estimator, param_grid, cv=5,\n",
    "                         factor=2, resource='n_estimators',\n",
    "                         max_resources=30).fit(train_features, train_labels)\n",
    "sh.best_estimator_"
   ]
  },
  {
   "cell_type": "code",
   "execution_count": 40,
   "metadata": {
    "colab": {
     "base_uri": "https://localhost:8080/"
    },
    "executionInfo": {
     "elapsed": 906,
     "status": "ok",
     "timestamp": 1645405308794,
     "user": {
      "displayName": "Serdar AKYOL",
      "photoUrl": "https://lh3.googleusercontent.com/a-/AOh14GhFoEhTTdnKtbAMCf_KR00rHfafHKDcsas7YjsxIA=s64",
      "userId": "13192402314406047829"
     },
     "user_tz": -60
    },
    "id": "t6NAy8MFxjm3",
    "outputId": "fec19f78-29da-4263-eccf-841f52214631"
   },
   "outputs": [
    {
     "data": {
      "text/plain": [
       "RandomForestClassifier(max_depth=10, min_samples_split=5, n_estimators=24)"
      ]
     },
     "execution_count": 40,
     "metadata": {},
     "output_type": "execute_result"
    }
   ],
   "source": [
    "model = RandomForestClassifier(max_depth=10, min_samples_split=5, n_estimators=24)\n",
    "model.fit(train_features, train_labels)"
   ]
  },
  {
   "cell_type": "code",
   "execution_count": 41,
   "metadata": {
    "colab": {
     "base_uri": "https://localhost:8080/"
    },
    "executionInfo": {
     "elapsed": 280,
     "status": "ok",
     "timestamp": 1645405522839,
     "user": {
      "displayName": "Serdar AKYOL",
      "photoUrl": "https://lh3.googleusercontent.com/a-/AOh14GhFoEhTTdnKtbAMCf_KR00rHfafHKDcsas7YjsxIA=s64",
      "userId": "13192402314406047829"
     },
     "user_tz": -60
    },
    "id": "BERuf0GpzIJl",
    "outputId": "7a5a6142-b1d4-402d-b854-8e27c33c7015"
   },
   "outputs": [
    {
     "data": {
      "text/plain": [
       "0.9113333333333333"
      ]
     },
     "execution_count": 41,
     "metadata": {},
     "output_type": "execute_result"
    }
   ],
   "source": [
    "model.score(test_features, test_labels)"
   ]
  },
  {
   "cell_type": "code",
   "execution_count": 42,
   "metadata": {
    "executionInfo": {
     "elapsed": 15874,
     "status": "ok",
     "timestamp": 1645405646029,
     "user": {
      "displayName": "Serdar AKYOL",
      "photoUrl": "https://lh3.googleusercontent.com/a-/AOh14GhFoEhTTdnKtbAMCf_KR00rHfafHKDcsas7YjsxIA=s64",
      "userId": "13192402314406047829"
     },
     "user_tz": -60
    },
    "id": "DHMhY7XLzLvw"
   },
   "outputs": [],
   "source": [
    "pred = []\n",
    "for i in range(len(test_features)):\n",
    "    feature = test_features.iloc[i].values\n",
    "    pred.append(model.predict([feature])[0])"
   ]
  },
  {
   "cell_type": "code",
   "execution_count": 43,
   "metadata": {
    "colab": {
     "base_uri": "https://localhost:8080/"
    },
    "executionInfo": {
     "elapsed": 267,
     "status": "ok",
     "timestamp": 1645405748390,
     "user": {
      "displayName": "Serdar AKYOL",
      "photoUrl": "https://lh3.googleusercontent.com/a-/AOh14GhFoEhTTdnKtbAMCf_KR00rHfafHKDcsas7YjsxIA=s64",
      "userId": "13192402314406047829"
     },
     "user_tz": -60
    },
    "id": "C9Z8ixFp0RNV",
    "outputId": "b7b30b24-bbe2-442c-d64f-278b54ac738a"
   },
   "outputs": [
    {
     "name": "stdout",
     "output_type": "stream",
     "text": [
      "              precision    recall  f1-score   support\n",
      "\n",
      "           0       0.91      0.87      0.89      1218\n",
      "           1       0.92      0.94      0.93      1782\n",
      "\n",
      "    accuracy                           0.91      3000\n",
      "   macro avg       0.91      0.91      0.91      3000\n",
      "weighted avg       0.91      0.91      0.91      3000\n",
      "\n"
     ]
    }
   ],
   "source": [
    "print(classification_report(test_labels, pred))"
   ]
  },
  {
   "cell_type": "code",
   "execution_count": 44,
   "metadata": {
    "colab": {
     "base_uri": "https://localhost:8080/",
     "height": 350
    },
    "executionInfo": {
     "elapsed": 1595,
     "status": "ok",
     "timestamp": 1645405809143,
     "user": {
      "displayName": "Serdar AKYOL",
      "photoUrl": "https://lh3.googleusercontent.com/a-/AOh14GhFoEhTTdnKtbAMCf_KR00rHfafHKDcsas7YjsxIA=s64",
      "userId": "13192402314406047829"
     },
     "user_tz": -60
    },
    "id": "SdG5Rflk0mSf",
    "outputId": "469d0509-eba7-4260-e5b6-2cbfa617261e"
   },
   "outputs": [
    {
     "data": {
      "image/png": "[encoded data removed]",
      "text/plain": [
       "<Figure size 864x360 with 2 Axes>"
      ]
     },
     "metadata": {
      "needs_background": "light"
     },
     "output_type": "display_data"
    }
   ],
   "source": [
    "from sklearn.metrics import confusion_matrix\n",
    "conf_mat = confusion_matrix(test_labels, pred)\n",
    "fig, ax = plt.subplots(figsize=(12,5))\n",
    "sns.heatmap(conf_mat, annot=True, fmt='d')\n",
    "plt.title('Random forest')\n",
    "plt.ylabel('Actual')\n",
    "plt.xlabel('Predicted')\n",
    "plt.show()"
   ]
  },
  {
   "cell_type": "markdown",
   "metadata": {
    "id": "Eb--Scaj1NwW"
   },
   "source": [
    "Tried to improve little bit more model but that time model default parameter was better. Therefore First Random forest model choosen. Not the second one"
   ]
  }
 ],
 "metadata": {
  "colab": {
   "authorship_tag": "ABX9TyOpMnzA5RDOBR9Ldipn1Zsf",
   "collapsed_sections": [],
   "name": "myrealfood.ipynb",
   "provenance": []
  },
  "kernelspec": {
   "display_name": "Python 3 (ipykernel)",
   "language": "python",
   "name": "python3"
  },
  "language_info": {
   "codemirror_mode": {
    "name": "ipython",
    "version": 3
   },
   "file_extension": ".py",
   "mimetype": "text/x-python",
   "name": "python",
   "nbconvert_exporter": "python",
   "pygments_lexer": "ipython3",
   "version": "3.9.7"
  }
 },
 "nbformat": 4,
 "nbformat_minor": 4
}
